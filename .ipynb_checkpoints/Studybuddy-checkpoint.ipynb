{
 "cells": [
  {
   "cell_type": "code",
   "execution_count": 56,
   "id": "d94df185-0665-4d92-a218-f6aca9845b13",
   "metadata": {},
   "outputs": [],
   "source": [
    "Questions={\n",
    "    'VARIABLES': [['How can you convert a variable from one data type to another in python?',\n",
    "                  ['switch(variable_name)','change(variable_name)','type(variable_name)','convert(variable_name)']]\n",
    "                  ,['What is a variable?',[ 'A constant value' , 'A reserved keyword in Python',\n",
    "                    'A placeholder for storing data' ,' A mathematical operation']]]\n",
    ",\n",
    "\n",
    "    'ITERATIONS':[['What is the difference between for and while loop?',\n",
    "                ['for loops are used for indefinite iteration and while loops for definite iteration', \n",
    "                'There is no difference between them', \n",
    "                'while loops are used for indefinite iteration and for loops are for definite iteration',\n",
    "                'while\" loops can only iterate over numbers, for loops can iterate over any data type']],\n",
    "                ['How do you exit a loop prematurely in python?',\n",
    "                ['exit statement', 'stop statement','break statement','range statement']]]  \n",
    "}\n",
    "                                             "
   ]
  },
  {
   "cell_type": "code",
   "execution_count": 80,
   "id": "a1d82556-585a-475d-8e62-538b34622792",
   "metadata": {},
   "outputs": [
    {
     "name": "stdout",
     "output_type": "stream",
     "text": [
      "WELCOME TO STUDYBUDDY!\n",
      "\n",
      "------------\n",
      "Please choose a topic you would like to learn today\n",
      "1) VARIABLES\n",
      "2) ITERATIONS\n"
     ]
    },
    {
     "name": "stdin",
     "output_type": "stream",
     "text": [
      "\n",
      ">>> 1\n"
     ]
    }
   ],
   "source": [
    "print('WELCOME TO STUDYBUDDY!\\n')\n",
    "print('------------')\n",
    "print('Please choose a topic you would like to learn today')\n",
    "for k,v in enumerate (Questions,start=1):\n",
    "    print(f'{k}) {v}')\n",
    "chosen_topic=input(\"\\n>>>\")\n"
   ]
  },
  {
   "cell_type": "code",
   "execution_count": 34,
   "id": "6f644b6a-1523-4bd4-96cc-825088bdae3c",
   "metadata": {
    "jupyter": {
     "source_hidden": true
    }
   },
   "outputs": [
    {
     "name": "stdout",
     "output_type": "stream",
     "text": [
      "['type(variable_name)', 'switch(variable_name)', 'change(variable_name)', 'convert(variable_name)']\n"
     ]
    },
    {
     "name": "stdin",
     "output_type": "stream",
     "text": [
      "{'How can you convert a variable from one data type to another in python?'} type\n"
     ]
    },
    {
     "name": "stdout",
     "output_type": "stream",
     "text": [
      "['A constant value', 'A reserved keyword in Python', 'A placeholder for storing data', ' A mathematical operation']\n"
     ]
    },
    {
     "name": "stdin",
     "output_type": "stream",
     "text": [
      "{'What is a variable?'} palceholder\n"
     ]
    }
   ],
   "source": [
    "if chosen_topic=='1':\n",
    "    for question, choices in Questions['VARIABLES']:\n",
    "        print(choices)\n",
    "        user_answer=input({question})\n",
    "       \n",
    "elif chosen_topic=='2':\n",
    "    for question, choices in Questions['ITERATIONS']:\n",
    "        print(choices)\n",
    "        user_answer=input({question})\n",
    "else:\n",
    "    print('Invalid input, Try again!')"
   ]
  },
  {
   "cell_type": "code",
   "execution_count": 89,
   "id": "0bc6a893-8f45-4074-a585-aaf10c6a2b3d",
   "metadata": {},
   "outputs": [
    {
     "name": "stdout",
     "output_type": "stream",
     "text": [
      "How can you convert a variable from one data type to another in python?\n",
      "1) change(variable_name)\n",
      "2) convert(variable_name)\n",
      "3) switch(variable_name)\n",
      "4) type(variable_name)\n"
     ]
    },
    {
     "name": "stdin",
     "output_type": "stream",
     "text": [
      ">>>> 4\n"
     ]
    },
    {
     "name": "stdout",
     "output_type": "stream",
     "text": [
      "Correct !!!\n",
      "What is a variable?\n",
      "1)  A mathematical operation\n",
      "2) A constant value\n",
      "3) A placeholder for storing data\n",
      "4) A reserved keyword in Python\n"
     ]
    },
    {
     "name": "stdin",
     "output_type": "stream",
     "text": [
      ">>>> 3\n"
     ]
    },
    {
     "name": "stdout",
     "output_type": "stream",
     "text": [
      "Correct !!!\n",
      "Your current score is 2\n"
     ]
    }
   ],
   "source": [
    "#How to make the choices display vertically\n",
    "score_count=0\n",
    "if chosen_topic=='1':\n",
    "    for question, choices in Questions['VARIABLES']:\n",
    "        print(question)\n",
    "        correct_answer=choices[2]#correct answer will always be the 3rd choice\n",
    "        sorted_choice_list=sorted(choices)\n",
    "        for index, choice in enumerate(sorted_choice_list,start=1):#choices will be sorted everytime\n",
    "            print(f'{index}) {choice}')\n",
    "        user_answer=(int(input('>>>>'))-1)\n",
    "        answer_from_sortlist=sorted_choice_list[user_answer]\n",
    "        if answer_from_sortlist==correct_answer:\n",
    "           print('Correct !!!')\n",
    "           score_count=score_count+1\n",
    "        else:\n",
    "             print(f'Sorry, the correct answer is: {correct_answer}')\n",
    "\n",
    "                   \n",
    "       \n",
    "elif chosen_topic=='2':\n",
    "    for question, choices in Questions['ITERATIONS']:\n",
    "        print(question)\n",
    "        correct_answer=choices[2]#the correct answer will always be the 3rd choice\n",
    "        sorted_choice_list=sorted(choices)\n",
    "        for index, choice in enumerate(sorted_choice_list,start=1):#choices will be sorted everytime\n",
    "            print(f'{index}) {choice}')\n",
    "        user_answer=(int(input(f'{question}'))-1)\n",
    "        answer_from_sortlist=sorted_choice_list[user_answer]\n",
    "        if answer_from_sortlist==correct_answer:\n",
    "           print('Correct !!!')\n",
    "           score_count=score_count+1\n",
    "        else:\n",
    "           print(f'Sorry, the correct answer is: {correct_answer}')\n",
    "        \n",
    "else:\n",
    "    print('Invalid input, Try again!')\n",
    "print(f'Your current score is {score_count}')\n"
   ]
  },
  {
   "cell_type": "code",
   "execution_count": null,
   "id": "71c2a96a-258b-444e-88e4-676d87e9fd5c",
   "metadata": {
    "jupyter": {
     "source_hidden": true
    }
   },
   "outputs": [],
   "source": [
    "#checking for the correct answer\n",
    "#think of it as comparing 2 lists\n",
    "''' The list original list of choices in dict and the sorted list.\n",
    "the user input will give us the index of the user's answer and\n",
    "then we will get the answer as is on the sorted list,\n",
    "then we will compare the 2'''\n",
    "\n",
    "user_answer=(int(input(f'{question}'))-1)\n",
    "answer_from_sortlist=sorted_choice_list[user_answer]\n",
    "if answer_from_sortlist==correct_answer:\n",
    "   print('Correct !!!')\n",
    "else:\n",
    "    print(f'Sorry, the correct answer is {correct_answer}')\n"
   ]
  },
  {
   "cell_type": "code",
   "execution_count": null,
   "id": "82baf74a-73aa-4d36-bbf6-26d144261e83",
   "metadata": {},
   "outputs": [],
   "source": [
    "#Now let us try to key score\n"
   ]
  }
 ],
 "metadata": {
  "kernelspec": {
   "display_name": "Python 3 (ipykernel)",
   "language": "python",
   "name": "python3"
  },
  "language_info": {
   "codemirror_mode": {
    "name": "ipython",
    "version": 3
   },
   "file_extension": ".py",
   "mimetype": "text/x-python",
   "name": "python",
   "nbconvert_exporter": "python",
   "pygments_lexer": "ipython3",
   "version": "3.11.4"
  }
 },
 "nbformat": 4,
 "nbformat_minor": 5
}
