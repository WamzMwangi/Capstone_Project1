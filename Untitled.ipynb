{
 "cells": [
  {
   "cell_type": "code",
   "execution_count": 1,
   "id": "a8b34d95-886e-41b8-a26b-e6153779789d",
   "metadata": {},
   "outputs": [],
   "source": [
    "QUESTIONS = {\n",
    "    \"Which keyword do you use to loop over a given list of elements\": [\n",
    "        \"for\", \"while\", \"each\", \"loop\"\n",
    "    ],\n",
    "    \"What's the purpose of the built-in zip() function\": [\n",
    "        \"To iterate over two or more sequences at the same time\",\n",
    "        \"To combine several strings into one\",\n",
    "        \"To compress several files into one archive\",\n",
    "        \"To get information from the user\",\n",
    "    ],\n",
    "    \"What's the name of Python's sorting algorithm\": [\n",
    "        \"Timsort\", \"Quicksort\", \"Merge sort\", \"Bubble sort\"\n",
    "    ],\n",
    "}\n",
    "\n"
   ]
  },
  {
   "cell_type": "code",
   "execution_count": 2,
   "id": "2f543cbf-2196-463d-a5d6-3bd4794629d1",
   "metadata": {},
   "outputs": [
    {
     "name": "stdout",
     "output_type": "stream",
     "text": [
      "  0) each\n",
      "  1) for\n",
      "  2) loop\n",
      "  3) while\n",
      "  0) To combine several strings into one\n",
      "  1) To compress several files into one archive\n",
      "  2) To get information from the user\n",
      "  3) To iterate over two or more sequences at the same time\n",
      "  0) Bubble sort\n",
      "  1) Merge sort\n",
      "  2) Quicksort\n",
      "  3) Timsort\n"
     ]
    }
   ],
   "source": [
    "for question, alternatives in QUESTIONS.items():\n",
    "    correct_answer = alternatives[0]\n",
    "    sorted_alternatives = sorted(alternatives)\n",
    "    for label, alternative in enumerate(sorted_alternatives):\n",
    "        print(f\"  {label}) {alternative}\")\n",
    "\n",
    "   "
   ]
  },
  {
   "cell_type": "code",
   "execution_count": 4,
   "id": "091844be-a9a8-4033-bb17-cb84b947685e",
   "metadata": {},
   "outputs": [
    {
     "name": "stdin",
     "output_type": "stream",
     "text": [
      "What's the name of Python's sorting algorithm?  A\n"
     ]
    },
    {
     "ename": "ValueError",
     "evalue": "invalid literal for int() with base 10: 'A'",
     "output_type": "error",
     "traceback": [
      "\u001b[1;31m---------------------------------------------------------------------------\u001b[0m",
      "\u001b[1;31mValueError\u001b[0m                                Traceback (most recent call last)",
      "Cell \u001b[1;32mIn[4], line 1\u001b[0m\n\u001b[1;32m----> 1\u001b[0m answer_label \u001b[38;5;241m=\u001b[39m \u001b[38;5;28;43mint\u001b[39;49m\u001b[43m(\u001b[49m\u001b[38;5;28;43minput\u001b[39;49m\u001b[43m(\u001b[49m\u001b[38;5;124;43mf\u001b[39;49m\u001b[38;5;124;43m\"\u001b[39;49m\u001b[38;5;132;43;01m{\u001b[39;49;00m\u001b[43mquestion\u001b[49m\u001b[38;5;132;43;01m}\u001b[39;49;00m\u001b[38;5;124;43m? \u001b[39;49m\u001b[38;5;124;43m\"\u001b[39;49m\u001b[43m)\u001b[49m\u001b[43m)\u001b[49m\n\u001b[0;32m      2\u001b[0m answer \u001b[38;5;241m=\u001b[39m sorted_alternatives[answer_label]\n\u001b[0;32m      3\u001b[0m \u001b[38;5;28;01mif\u001b[39;00m answer \u001b[38;5;241m==\u001b[39m correct_answer:\n",
      "\u001b[1;31mValueError\u001b[0m: invalid literal for int() with base 10: 'A'"
     ]
    }
   ],
   "source": [
    "    answer_label = int(input(f\"{question}? \"))\n",
    "    answer = sorted_alternatives[answer_label]\n",
    "    if answer == correct_answer:\n",
    "        print(\"Correct!\")\n",
    "    else:\n",
    "        print(f\"The answer is {correct_answer!r}, not {answer!r}\")"
   ]
  },
  {
   "cell_type": "code",
   "execution_count": null,
   "id": "c50f50ce-4b91-4f7f-a216-c1c290d0bae0",
   "metadata": {},
   "outputs": [],
   "source": []
  }
 ],
 "metadata": {
  "kernelspec": {
   "display_name": "Python 3 (ipykernel)",
   "language": "python",
   "name": "python3"
  },
  "language_info": {
   "codemirror_mode": {
    "name": "ipython",
    "version": 3
   },
   "file_extension": ".py",
   "mimetype": "text/x-python",
   "name": "python",
   "nbconvert_exporter": "python",
   "pygments_lexer": "ipython3",
   "version": "3.11.4"
  }
 },
 "nbformat": 4,
 "nbformat_minor": 5
}
